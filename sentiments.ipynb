{
 "cells": [
  {
   "cell_type": "markdown",
   "metadata": {},
   "source": [
    "# Sentiments Index"
   ]
  },
  {
   "cell_type": "markdown",
   "metadata": {},
   "source": [
    "## Preparation of Excel File"
   ]
  },
  {
   "cell_type": "code",
   "execution_count": 18,
   "metadata": {},
   "outputs": [],
   "source": [
    "# combining date from texts_cleaned.xlsx with sentiments.xlsx\n",
    "import pandas as pd\n",
    "import json\n",
    "\n",
    "# reading sentiments.xlsx as sentiments dataframe\n",
    "excel_file = 'sentiments.xlsx'\n",
    "sheet_name = '2020 - 2024'\n",
    "sentiments = pd.read_excel(excel_file, sheet_name=sheet_name)\n",
    "\n",
    "# extracting custom id and user content from jsonl\n",
    "def extract_custom_id_and_user_content(jsonl_file_path):\n",
    "    results = []\n",
    "\n",
    "    with open(jsonl_file_path, 'r') as file:\n",
    "        for line in file:\n",
    "            data = json.loads(line.strip())\n",
    "            custom_id = data.get('custom_id')\n",
    "            messages = data.get('body', {}).get('messages', [])\n",
    "            user_content = None\n",
    "            for message in messages:\n",
    "                if message.get('role') == 'user':\n",
    "                    user_content = message.get('content')\n",
    "                    break\n",
    "\n",
    "            if custom_id and user_content:\n",
    "                results.append({\n",
    "                    'custom_id': custom_id,\n",
    "                    'user_content': user_content\n",
    "                })\n",
    "\n",
    "    return results\n",
    "\n",
    "jsonl_file_path = './chatgpt/jsonl/2020_2024(1).jsonl'\n",
    "extracted_data = extract_custom_id_and_user_content(jsonl_file_path)\n",
    "\n",
    "jsonl = pd.DataFrame(extracted_data)\n",
    "\n",
    "# merging sentiments with texts\n",
    "merged_df = pd.merge(jsonl, sentiments, on='custom_id')\n",
    "\n",
    "# reading texts_cleaned.xlsx as texts_cleaned dataframe\n",
    "excel_file = 'texts_cleaned.xlsx'\n",
    "texts_cleaned = pd.read_excel(excel_file, sheet_name=sheet_name)\n",
    "\n",
    "# merging texts_cleaned with merged_df\n",
    "final_df = pd.merge(texts_cleaned, merged_df, right_on='user_content', left_on='Text')\n",
    "\n",
    "# drop columns user_content and custom_id\n",
    "final_df = final_df.drop(columns=['user_content', 'custom_id'])\n",
    "\n",
    "# final_df.to_excel('sentiments_cleaned.xlsx', sheet_name=sheet_name, index=False)\n",
    "with pd.ExcelWriter('sentiments_cleaned.xlsx', engine=\"openpyxl\", mode=\"a\", if_sheet_exists=\"replace\") as writer:\n",
    "    final_df.to_excel(writer, sheet_name=sheet_name, index=False)\n",
    "\n"
   ]
  }
 ],
 "metadata": {
  "kernelspec": {
   "display_name": "env",
   "language": "python",
   "name": "python3"
  },
  "language_info": {
   "codemirror_mode": {
    "name": "ipython",
    "version": 3
   },
   "file_extension": ".py",
   "mimetype": "text/x-python",
   "name": "python",
   "nbconvert_exporter": "python",
   "pygments_lexer": "ipython3",
   "version": "3.11.4"
  }
 },
 "nbformat": 4,
 "nbformat_minor": 2
}
