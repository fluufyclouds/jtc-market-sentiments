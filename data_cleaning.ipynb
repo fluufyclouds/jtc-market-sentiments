{
 "cells": [
  {
   "cell_type": "markdown",
   "metadata": {},
   "source": [
    "# Data Cleaning"
   ]
  },
  {
   "cell_type": "code",
   "execution_count": 1,
   "metadata": {},
   "outputs": [
    {
     "name": "stdout",
     "output_type": "stream",
     "text": [
      "Requirement already satisfied: pandas in ./env/lib/python3.11/site-packages (2.2.2)\n",
      "Requirement already satisfied: openpyxl in ./env/lib/python3.11/site-packages (3.1.5)\n",
      "Requirement already satisfied: numpy>=1.23.2 in ./env/lib/python3.11/site-packages (from pandas) (2.0.1)\n",
      "Requirement already satisfied: python-dateutil>=2.8.2 in ./env/lib/python3.11/site-packages (from pandas) (2.9.0.post0)\n",
      "Requirement already satisfied: pytz>=2020.1 in ./env/lib/python3.11/site-packages (from pandas) (2024.1)\n",
      "Requirement already satisfied: tzdata>=2022.7 in ./env/lib/python3.11/site-packages (from pandas) (2024.1)\n",
      "Requirement already satisfied: et-xmlfile in ./env/lib/python3.11/site-packages (from openpyxl) (1.1.0)\n",
      "Requirement already satisfied: six>=1.5 in ./env/lib/python3.11/site-packages (from python-dateutil>=2.8.2->pandas) (1.16.0)\n",
      "Note: you may need to restart the kernel to use updated packages.\n"
     ]
    }
   ],
   "source": [
    "%pip install pandas openpyxl"
   ]
  },
  {
   "cell_type": "markdown",
   "metadata": {},
   "source": [
    "# Text Cleaning"
   ]
  },
  {
   "cell_type": "code",
   "execution_count": 19,
   "metadata": {},
   "outputs": [
    {
     "name": "stdout",
     "output_type": "stream",
     "text": [
      "                                                  URLs  ...                                               Text\n",
      "0    https://www.channelnewsasia.com/business/singa...  ...  Business        Business  An SGX sign is pictu...\n",
      "1    https://www.channelnewsasia.com/commentary/sin...  ...  Commentary  commentarycommentary      Commenta...\n",
      "2    https://www.channelnewsasia.com/commentary/sin...  ...  Commentary  commentarycommentary      Commenta...\n",
      "3    https://www.channelnewsasia.com/commentary/pro...  ...  Commentary  commentarycommentary      Commenta...\n",
      "4    https://www.channelnewsasia.com/commentary/gol...  ...  Commentary  commentarycommentary      Commenta...\n",
      "..                                                 ...  ...                                                ...\n",
      "513  https://www.edgeprop.sg/property-news/fewer-co...  ...                                                NaN\n",
      "514  https://www.edgeprop.sg/property-news/analysis...  ...                                                NaN\n",
      "515  https://www.edgeprop.sg/property-news/three-fr...  ...                                                NaN\n",
      "516  https://www.edgeprop.sg/property-news/singapor...  ...  Our SiteFollow UsEdgepropProperty NewsAll News...\n",
      "517  https://www.edgeprop.sg/property-news/56-units...  ...                                                NaN\n",
      "\n",
      "[518 rows x 3 columns]\n"
     ]
    }
   ],
   "source": [
    "import pandas as pd\n",
    "\n",
    "excel_file = 'texts.xlsx'\n",
    "sheet_name = '2020 - 2024'\n",
    "df = pd.read_excel(excel_file, sheet_name=sheet_name)\n",
    "\n",
    "# remove leading and trailing whitespaces\n",
    "df['Text'] = df['Text'].str.strip()\n",
    "print(df)\n",
    "\n",
    "# replace multiple spaces between words with a single space\n",
    "df.loc[:, 'Text'] = df['Text'].str.replace(r'\\s+', ' ', regex=True)\n",
    "\n",
    "with pd.ExcelWriter(excel_file, engine='openpyxl', mode='a', if_sheet_exists='replace') as writer:\n",
    "    df.to_excel(writer, sheet_name=sheet_name, index=False)"
   ]
  },
  {
   "cell_type": "code",
   "execution_count": 20,
   "metadata": {},
   "outputs": [],
   "source": [
    "import pandas as pd\n",
    "\n",
    "excel_file = 'texts.xlsx'\n",
    "sheet_name = '2010 - 2014'\n",
    "df = pd.read_excel(excel_file, sheet_name=sheet_name)"
   ]
  },
  {
   "cell_type": "code",
   "execution_count": 24,
   "metadata": {},
   "outputs": [],
   "source": [
    "from urllib.parse import urlparse\n",
    "\n",
    "def extract_domain(url):\n",
    "    try:\n",
    "        return urlparse(url).netloc\n",
    "    except:\n",
    "        return ''\n",
    "\n",
    "df['Domain'] = df['URLs'].apply(extract_domain)\n",
    "\n",
    "# cleaning of sbr text\n",
    "filtered_df = df[df['Domain'] == 'sbr.com.sg']\n",
    "## remove heading\n",
    "remove_text = \"Singapore Business Review website works best with Javascript enabled. Please enable your javascript and reload the page.\"\n",
    "filtered_df.loc[:, 'Text'] = filtered_df['Text'].str.replace(f'^{remove_text}', '', regex=True)\n",
    "## remove ending\n",
    "remove_text = \"...there are many ways you can work with us to advertise your company and connect to your customers. Our team can help you dight and create an advertising campaign, in print and digital, on this website and in print magazine. We can also organize a real life or digital event for you and find thought leader speakers as well as industry leaders, who could be your potential partners, to join the event. We also run some awards programmes which give you an opportunity to be recognized for your achievements during the year and you can join this as a participant or a sponsor. Let us help you drive your business forward with a good partnership! Copyright 2024 Charlton Media Group.Web Design by: Halcyon Web DesignCopyright 2024 Charlton Media Group.Web Design by: Halcyon Web Design\"\n",
    "filtered_df.loc[:, 'Text'] = filtered_df['Text'].str.replace(remove_text, '', regex=True)\n",
    "\n",
    "filtered_df.to_excel('cleaned_filtered_texts.xlsx', index=False)"
   ]
  },
  {
   "cell_type": "code",
   "execution_count": null,
   "metadata": {},
   "outputs": [],
   "source": [
    "filtered_df = filtered_df.drop(columns=['Domain'])\n",
    "\n",
    "print(filtered_df)\n",
    "\n",
    "with pd.ExcelWriter(file_path, engine='openpyxl', mode='a', if_sheet_exists='replace') as writer:\n",
    "    filtered_df.to_excel(writer, sheet_name=sheet_to_clean, index=False)"
   ]
  }
 ],
 "metadata": {
  "kernelspec": {
   "display_name": "env",
   "language": "python",
   "name": "python3"
  },
  "language_info": {
   "codemirror_mode": {
    "name": "ipython",
    "version": 3
   },
   "file_extension": ".py",
   "mimetype": "text/x-python",
   "name": "python",
   "nbconvert_exporter": "python",
   "pygments_lexer": "ipython3",
   "version": "3.11.4"
  }
 },
 "nbformat": 4,
 "nbformat_minor": 2
}
