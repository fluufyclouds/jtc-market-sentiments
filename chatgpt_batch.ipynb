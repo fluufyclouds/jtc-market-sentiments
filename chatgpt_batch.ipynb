{
 "cells": [
  {
   "cell_type": "markdown",
   "metadata": {},
   "source": [
    "# Generating JSONL File"
   ]
  },
  {
   "cell_type": "code",
   "execution_count": null,
   "metadata": {},
   "outputs": [],
   "source": [
    "text = [\"Analyze the market sentiments on Singapore's industrial market. Rate it from -1 to 1 on the sentiments for Singapore's industrial market. Only give me the value.\",\n",
    "        \"Analyse the market sentiments on Singapore's industrial market. Rate it either positive, neutral or negative for the sentiments for Singapore's industrial market, whether the text is indicating a positive, neutral or negative outlook. Only give me the value.\",\n",
    "        \"For the inputted text, analyse the market sentiments on Singapore's industrial market. Rate it between -1 to 1, whether the text is suggesting a boom or bust in the industrial properties market. Only give me the value.\",\n",
    "        \"For the inputted text, analyse the market sentiments on Singapore's industrial market. Rate it either positive, neutral or negative for the sentiments for Singapore's industrial market. Only give me the value.\",\n",
    "        \"Based on the provided text, predict the market for Singapore's industrial properties. Rate the sentiment on a scale from -1 to 1, where -1 indicates a very negative outlook, 0 is neutral, and 1 signifies a very positive outlook. Please provide only the numeric sentiment value.\"\n",
    "        ]"
   ]
  },
  {
   "cell_type": "code",
   "execution_count": 22,
   "metadata": {},
   "outputs": [],
   "source": [
    "import pandas as pd\n",
    "import json\n",
    "\n",
    "# read the Excel file\n",
    "excel_file = 'texts_cleaned.xlsx'\n",
    "sheet_name = '2020 - 2024'\n",
    "df = pd.read_excel(excel_file, sheet_name=sheet_name)\n",
    "\n",
    "# prepare the output JSONL file\n",
    "output_file = '2020_2024(5).jsonl'\n",
    "\n",
    "# define fixed values\n",
    "model = \"gpt-4o-mini\"\n",
    "system_content = \"Analyze the market sentiments on Singapore's industrial market. Rate it from -1 to 1 on the sentiments for Singapore's industrial market. Only give me the value.\"\n",
    "url_template = \"/v1/chat/completions\"\n",
    "method = \"POST\"\n",
    "\n",
    "# open the file for writing\n",
    "with open(output_file, 'w') as file:\n",
    "    for index, row in df.iterrows():\n",
    "        # generate custom_id\n",
    "        custom_id = f\"request-{index + 1}\"\n",
    "        \n",
    "        # extract the 'text' column for user content\n",
    "        user_content = row['Text']\n",
    "        \n",
    "        # create the JSON structure\n",
    "        json_line = {\n",
    "            \"custom_id\": custom_id,\n",
    "            \"method\": method,\n",
    "            \"url\": url_template,\n",
    "            \"body\": {\n",
    "                \"model\": model,\n",
    "                \"messages\": [\n",
    "                    {\"role\": \"system\", \"content\": system_content},\n",
    "                    {\"role\": \"user\", \"content\": user_content}\n",
    "                ],\n",
    "                \"max_tokens\": 10\n",
    "            }\n",
    "        }\n",
    "        \n",
    "        # write the JSON line to the file\n",
    "        file.write(json.dumps(json_line) + '\\n')"
   ]
  },
  {
   "cell_type": "markdown",
   "metadata": {},
   "source": [
    "# Upload File"
   ]
  },
  {
   "cell_type": "code",
   "execution_count": 31,
   "metadata": {},
   "outputs": [
    {
     "data": {
      "text/plain": [
       "FileObject(id='file-2KfRfBpRuRJmd3MvGyKigi3W', bytes=1727748, created_at=1723024669, filename='2020_2024(5).jsonl', object='file', purpose='batch', status='processed', status_details=None)"
      ]
     },
     "execution_count": 31,
     "metadata": {},
     "output_type": "execute_result"
    }
   ],
   "source": [
    "from openai import OpenAI\n",
    "client = OpenAI()\n",
    "\n",
    "client.files.create(\n",
    "  file=open(\"2020_2024(5).jsonl\", \"rb\"),\n",
    "  purpose=\"batch\"\n",
    ")"
   ]
  },
  {
   "cell_type": "markdown",
   "metadata": {},
   "source": [
    "# Create Batch"
   ]
  },
  {
   "cell_type": "code",
   "execution_count": 32,
   "metadata": {},
   "outputs": [
    {
     "data": {
      "text/plain": [
       "Batch(id='batch_VyWlTa0NeYE7ebHgUjPQIxpG', completion_window='24h', created_at=1723024677, endpoint='/v1/chat/completions', input_file_id='file-2KfRfBpRuRJmd3MvGyKigi3W', object='batch', status='validating', cancelled_at=None, cancelling_at=None, completed_at=None, error_file_id=None, errors=None, expired_at=None, expires_at=1723111077, failed_at=None, finalizing_at=None, in_progress_at=None, metadata=None, output_file_id=None, request_counts=BatchRequestCounts(completed=0, failed=0, total=0))"
      ]
     },
     "execution_count": 32,
     "metadata": {},
     "output_type": "execute_result"
    }
   ],
   "source": [
    "client.batches.create(\n",
    "  input_file_id=\"file-2KfRfBpRuRJmd3MvGyKigi3W\",\n",
    "  endpoint=\"/v1/chat/completions\",\n",
    "  completion_window=\"24h\"\n",
    ")"
   ]
  },
  {
   "cell_type": "markdown",
   "metadata": {},
   "source": [
    "# Retrieve Batch"
   ]
  },
  {
   "cell_type": "code",
   "execution_count": 39,
   "metadata": {},
   "outputs": [
    {
     "data": {
      "text/plain": [
       "Batch(id='batch_f8FszXNq8cTH8ypedzbtfW6j', completion_window='24h', created_at=1723015390, endpoint='/v1/chat/completions', input_file_id='file-VoXIfMd7kdRgyIEfVFnRYeBC', object='batch', status='in_progress', cancelled_at=None, cancelling_at=None, completed_at=None, error_file_id=None, errors=None, expired_at=None, expires_at=1723101790, failed_at=None, finalizing_at=None, in_progress_at=1723015391, metadata=None, output_file_id=None, request_counts=BatchRequestCounts(completed=43, failed=0, total=78))"
      ]
     },
     "execution_count": 39,
     "metadata": {},
     "output_type": "execute_result"
    }
   ],
   "source": [
    "client.batches.retrieve(\"batch_f8FszXNq8cTH8ypedzbtfW6j\")"
   ]
  },
  {
   "cell_type": "markdown",
   "metadata": {},
   "source": [
    "# Convert to Excel"
   ]
  },
  {
   "cell_type": "markdown",
   "metadata": {},
   "source": [
    "## Convert JSONL to Excel"
   ]
  },
  {
   "cell_type": "code",
   "execution_count": 39,
   "metadata": {},
   "outputs": [],
   "source": [
    "import pandas as pd\n",
    "\n",
    "data = []\n",
    "\n",
    "input_file = './chatgpt/2020_2024/batch_OYYAcCnCIlRV9U8HKUjPlHJ1_output.jsonl'\n",
    "with open(input_file, 'r') as file:\n",
    "    for line in file:\n",
    "        record = json.loads(line)\n",
    "        extracted_data = {\n",
    "            'custom_id': record['custom_id'],\n",
    "            'message_content': record['response']['body']['choices'][0]['message']['content']\n",
    "        }\n",
    "        data.append(extracted_data)\n",
    "\n",
    "df = pd.DataFrame(data)\n",
    "\n",
    "output_file = 'sentiments.xlsx'\n",
    "sheet_name = '2020 - 2024'\n",
    "# df.to_excel(output_file, sheet_name= sheet_name, index=False)\n",
    "with pd.ExcelWriter(output_file, engine='openpyxl', mode='a', if_sheet_exists='replace') as writer:\n",
    "    df.to_excel(writer, sheet_name=sheet_name, index=False)"
   ]
  },
  {
   "cell_type": "markdown",
   "metadata": {},
   "source": [
    "## Combining More JSONL File"
   ]
  },
  {
   "cell_type": "code",
   "execution_count": 43,
   "metadata": {},
   "outputs": [],
   "source": [
    "def extract_data_from_jsonl(file_path):\n",
    "    data = []\n",
    "    with open(file_path, 'r') as file:\n",
    "        for line in file:\n",
    "            record = json.loads(line)\n",
    "            extracted_data = {\n",
    "                'custom_id': record['custom_id'],\n",
    "                'message_content': record['response']['body']['choices'][0]['message']['content']\n",
    "            }\n",
    "            data.append(extracted_data)\n",
    "    return data\n",
    "\n",
    "existing_file = 'sentiments.xlsx'\n",
    "sheet_name = '2020 - 2024'\n",
    "existing_df = pd.read_excel(existing_file, sheet_name=sheet_name)\n",
    "\n",
    "new_jsonl_file = './chatgpt/2020_2024/batch_VyWlTa0NeYE7ebHgUjPQIxpG_output.jsonl'\n",
    "new_data = extract_data_from_jsonl(new_jsonl_file)\n",
    "new_df = pd.DataFrame(new_data)\n",
    "\n",
    "merged_df = existing_df.merge(new_df, on='custom_id', how='left', suffixes=('_x', '_y'))\n",
    "\n",
    "with pd.ExcelWriter(existing_file, engine='openpyxl', mode='a', if_sheet_exists='replace') as writer:\n",
    "    merged_df.to_excel(writer, sheet_name=sheet_name, index=False)\n"
   ]
  }
 ],
 "metadata": {
  "kernelspec": {
   "display_name": "env",
   "language": "python",
   "name": "python3"
  },
  "language_info": {
   "codemirror_mode": {
    "name": "ipython",
    "version": 3
   },
   "file_extension": ".py",
   "mimetype": "text/x-python",
   "name": "python",
   "nbconvert_exporter": "python",
   "pygments_lexer": "ipython3",
   "version": "3.11.4"
  }
 },
 "nbformat": 4,
 "nbformat_minor": 2
}
