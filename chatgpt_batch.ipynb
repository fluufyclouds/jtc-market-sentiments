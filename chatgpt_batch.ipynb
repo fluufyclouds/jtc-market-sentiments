{
 "cells": [
  {
   "cell_type": "markdown",
   "metadata": {},
   "source": [
    "# Generating JSONL File"
   ]
  },
  {
   "cell_type": "code",
   "execution_count": 16,
   "metadata": {},
   "outputs": [],
   "source": [
    "import pandas as pd\n",
    "import json\n",
    "\n",
    "# read the Excel file\n",
    "excel_file = 'texts_cleaned.xlsx'\n",
    "sheet_name = '2010 - 2014'\n",
    "df = pd.read_excel(excel_file, sheet_name=sheet_name)\n",
    "\n",
    "# prepare the output JSONL file\n",
    "output_file = '2010_2014(3).jsonl'\n",
    "\n",
    "# define fixed values\n",
    "model = \"gpt-4o-mini\"\n",
    "system_content = \"For the inputted text, analyse the market sentiments on Singapore's industrial market. Rate it between -1 to 1, whether the text is suggesting a boom or bust in the industrial properties market. Only give me the value.\"\n",
    "url_template = \"/v1/chat/completions\"\n",
    "method = \"POST\"\n",
    "\n",
    "# open the file for writing\n",
    "with open(output_file, 'w') as file:\n",
    "    for index, row in df.iterrows():\n",
    "        # generate custom_id\n",
    "        custom_id = f\"request-{index + 1}\"\n",
    "        \n",
    "        # extract the 'text' column for user content\n",
    "        user_content = row['Text']\n",
    "        \n",
    "        # create the JSON structure\n",
    "        json_line = {\n",
    "            \"custom_id\": custom_id,\n",
    "            \"method\": method,\n",
    "            \"url\": url_template,\n",
    "            \"body\": {\n",
    "                \"model\": model,\n",
    "                \"messages\": [\n",
    "                    {\"role\": \"system\", \"content\": system_content},\n",
    "                    {\"role\": \"user\", \"content\": user_content}\n",
    "                ],\n",
    "                \"max_tokens\": 10\n",
    "            }\n",
    "        }\n",
    "        \n",
    "        # write the JSON line to the file\n",
    "        file.write(json.dumps(json_line) + '\\n')\n"
   ]
  },
  {
   "cell_type": "markdown",
   "metadata": {},
   "source": [
    "# Upload File"
   ]
  },
  {
   "cell_type": "code",
   "execution_count": 17,
   "metadata": {},
   "outputs": [
    {
     "data": {
      "text/plain": [
       "FileObject(id='file-ltad2Vw6Sk0apkK3nLmz7GLp', bytes=443292, created_at=1723011969, filename='2010_2014(3).jsonl', object='file', purpose='batch', status='processed', status_details=None)"
      ]
     },
     "execution_count": 17,
     "metadata": {},
     "output_type": "execute_result"
    }
   ],
   "source": [
    "from openai import OpenAI\n",
    "client = OpenAI()\n",
    "\n",
    "client.files.create(\n",
    "  file=open(\"2010_2014(3).jsonl\", \"rb\"),\n",
    "  purpose=\"batch\"\n",
    ")"
   ]
  },
  {
   "cell_type": "markdown",
   "metadata": {},
   "source": [
    "# Create Batch"
   ]
  },
  {
   "cell_type": "code",
   "execution_count": 18,
   "metadata": {},
   "outputs": [
    {
     "data": {
      "text/plain": [
       "Batch(id='batch_RegEVUfEjx3JB7yfQmdlhyo1', completion_window='24h', created_at=1723011991, endpoint='/v1/chat/completions', input_file_id='file-ltad2Vw6Sk0apkK3nLmz7GLp', object='batch', status='validating', cancelled_at=None, cancelling_at=None, completed_at=None, error_file_id=None, errors=None, expired_at=None, expires_at=1723098391, failed_at=None, finalizing_at=None, in_progress_at=None, metadata=None, output_file_id=None, request_counts=BatchRequestCounts(completed=0, failed=0, total=0))"
      ]
     },
     "execution_count": 18,
     "metadata": {},
     "output_type": "execute_result"
    }
   ],
   "source": [
    "client.batches.create(\n",
    "  input_file_id=\"file-ltad2Vw6Sk0apkK3nLmz7GLp\",\n",
    "  endpoint=\"/v1/chat/completions\",\n",
    "  completion_window=\"24h\"\n",
    ")"
   ]
  },
  {
   "cell_type": "markdown",
   "metadata": {},
   "source": [
    "# Retrieve Batch"
   ]
  },
  {
   "cell_type": "code",
   "execution_count": 15,
   "metadata": {},
   "outputs": [
    {
     "data": {
      "text/plain": [
       "Batch(id='batch_0qnU69dwioIxCL3nNUgc3F3Z', completion_window='24h', created_at=1723011380, endpoint='/v1/chat/completions', input_file_id='file-sKALRTzPcowTdKboQFo42suU', object='batch', status='completed', cancelled_at=None, cancelling_at=None, completed_at=1723011395, error_file_id=None, errors=None, expired_at=None, expires_at=1723097780, failed_at=None, finalizing_at=1723011392, in_progress_at=1723011380, metadata=None, output_file_id='file-bZW75DXg20MxRq5yBHJZ9D3G', request_counts=BatchRequestCounts(completed=78, failed=0, total=78))"
      ]
     },
     "execution_count": 15,
     "metadata": {},
     "output_type": "execute_result"
    }
   ],
   "source": [
    "client.batches.retrieve(\"batch_0qnU69dwioIxCL3nNUgc3F3Z\")"
   ]
  },
  {
   "cell_type": "markdown",
   "metadata": {},
   "source": [
    "# Convert to Excel"
   ]
  },
  {
   "cell_type": "code",
   "execution_count": null,
   "metadata": {},
   "outputs": [],
   "source": [
    "import pandas as pd\n",
    "\n",
    "data = []\n",
    "\n",
    "input_file = '/chatgpt/2010_2014/path_to_your_jsonl_file.jsonl'\n",
    "with open(input_file, 'r') as file:\n",
    "    for line in file:\n",
    "        record = json.loads(line)\n",
    "        extracted_data = {\n",
    "            'custom_id': record['custom_id'],\n",
    "            'message_content': record['response']['body']['choices'][0]['message']['content']\n",
    "        }\n",
    "        data.append(extracted_data)\n",
    "\n",
    "# Create a DataFrame from the extracted data\n",
    "df = pd.DataFrame(data)\n",
    "\n",
    "# Write the DataFrame to an Excel file\n",
    "output_file = 'output.xlsx'\n",
    "df.to_excel(output_file, index=False)\n",
    "\n",
    "print(f'Data has been successfully extracted to {output_file}')\n"
   ]
  }
 ],
 "metadata": {
  "kernelspec": {
   "display_name": "env",
   "language": "python",
   "name": "python3"
  },
  "language_info": {
   "codemirror_mode": {
    "name": "ipython",
    "version": 3
   },
   "file_extension": ".py",
   "mimetype": "text/x-python",
   "name": "python",
   "nbconvert_exporter": "python",
   "pygments_lexer": "ipython3",
   "version": "3.11.4"
  }
 },
 "nbformat": 4,
 "nbformat_minor": 2
}
