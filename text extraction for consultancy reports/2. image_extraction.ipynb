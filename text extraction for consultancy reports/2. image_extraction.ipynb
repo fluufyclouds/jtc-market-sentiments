{
 "cells": [
  {
   "cell_type": "code",
   "execution_count": 4,
   "metadata": {},
   "outputs": [],
   "source": [
    "import os\n",
    "from PIL import Image\n",
    "import pytesseract\n",
    "from openpyxl import load_workbook\n",
    "\n",
    "def extract_text_from_image(image_path):\n",
    "    try:\n",
    "        image = Image.open(image_path)\n",
    "        text = pytesseract.image_to_string(image)\n",
    "        return text\n",
    "    except Exception as e:\n",
    "        print(f\"Error processing image {image_path}: {e}\")\n",
    "        return None\n",
    "\n",
    "def process_images_in_folder(folder_path, worksheet):\n",
    "    row = worksheet.max_row + 1 \n",
    "    for root, dirs, files in os.walk(folder_path):\n",
    "        for file in files:\n",
    "            if file.lower().endswith('.jpeg') or file.lower().endswith('.jpg'):\n",
    "                image_path = os.path.join(root, file)\n",
    "                text = extract_text_from_image(image_path)\n",
    "                if text:\n",
    "                    worksheet.cell(row=row, column=1, value=file)\n",
    "                    worksheet.cell(row=row, column=2, value=text)\n",
    "                    worksheet.cell(row=row, column=3, value=image_path)\n",
    "                    row += 1\n",
    "\n",
    "# path to the folder containing the images\n",
    "folder_path = \"/Users/loowenwen/Desktop/JTC Internship/Industrial Reports\"\n",
    "\n",
    "# path to the existing Excel file\n",
    "excel_path = \"/Users/loowenwen/Desktop/Visual Code Studio/jtc-internship/9. consultancy reports/extracted_texts.xlsx\"\n",
    "\n",
    "# load the existing Excel workbook and select the active worksheet\n",
    "workbook = load_workbook(excel_path)\n",
    "worksheet = workbook.active\n",
    "\n",
    "# process images in the specified folder and save the results to the Excel file\n",
    "process_images_in_folder(folder_path, worksheet)\n",
    "\n",
    "# save the updated Excel file\n",
    "workbook.save(excel_path)\n"
   ]
  }
 ],
 "metadata": {
  "kernelspec": {
   "display_name": "Python 3",
   "language": "python",
   "name": "python3"
  },
  "language_info": {
   "codemirror_mode": {
    "name": "ipython",
    "version": 3
   },
   "file_extension": ".py",
   "mimetype": "text/x-python",
   "name": "python",
   "nbconvert_exporter": "python",
   "pygments_lexer": "ipython3",
   "version": "3.11.4"
  }
 },
 "nbformat": 4,
 "nbformat_minor": 2
}
