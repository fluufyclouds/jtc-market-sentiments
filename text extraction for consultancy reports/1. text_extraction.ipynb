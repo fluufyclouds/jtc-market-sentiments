{
 "cells": [
  {
   "cell_type": "markdown",
   "metadata": {},
   "source": [
    "# Code"
   ]
  },
  {
   "cell_type": "code",
   "execution_count": 7,
   "metadata": {},
   "outputs": [],
   "source": [
    "import fitz\n",
    "import os\n",
    "import pandas as pd\n",
    "\n",
    "def extract_text_from_pdf(pdf_path):\n",
    "    document = fitz.open(pdf_path)\n",
    "    text = \"\"\n",
    "    for page_num in range(len(document)):\n",
    "        page = document.load_page(page_num)\n",
    "        text += page.get_text()\n",
    "    return text\n",
    "\n",
    "def extract_text_from_pdfs_in_directory(directory_path):\n",
    "    pdf_texts = []\n",
    "    for filename in os.listdir(directory_path):\n",
    "        if filename.endswith(\".pdf\"):\n",
    "            pdf_path = os.path.join(directory_path, filename)\n",
    "            text = extract_text_from_pdf(pdf_path)\n",
    "            pdf_texts.append({\"File Name\": filename, \"Extracted Text\": text})\n",
    "    return pdf_texts\n",
    "\n",
    "def save_texts_to_excel(pdf_texts, excel_path):\n",
    "    df = pd.DataFrame(pdf_texts)\n",
    "    df.to_excel(excel_path, index=False)\n"
   ]
  },
  {
   "cell_type": "markdown",
   "metadata": {},
   "source": [
    "# Result"
   ]
  },
  {
   "cell_type": "code",
   "execution_count": 8,
   "metadata": {},
   "outputs": [
    {
     "name": "stdout",
     "output_type": "stream",
     "text": [
      "Extracted texts have been saved to /Users/loowenwen/Desktop/Visual Code Studio/jtc-internship/9. consultancy reports/extracted_texts.xlsx\n"
     ]
    }
   ],
   "source": [
    "# specify the path to your directory containing PDF files\n",
    "directory_path = \"/Users/loowenwen/Downloads/2024 Reports\"\n",
    "\n",
    "# extract text from all PDFs in the directory\n",
    "extracted_texts = extract_text_from_pdfs_in_directory(directory_path)\n",
    "\n",
    "# get the current working directory\n",
    "current_directory = os.getcwd()\n",
    "\n",
    "# specify the path to save the Excel file in the current working directory\n",
    "excel_path = os.path.join(current_directory, \"extracted_texts.xlsx\")\n",
    "\n",
    "# save the extracted texts to an Excel file\n",
    "save_texts_to_excel(extracted_texts, excel_path)\n",
    "\n",
    "print(f\"Extracted texts have been saved to {excel_path}\")"
   ]
  },
  {
   "cell_type": "markdown",
   "metadata": {},
   "source": [
    "# Further Refining the Code"
   ]
  },
  {
   "cell_type": "code",
   "execution_count": 14,
   "metadata": {},
   "outputs": [
    {
     "name": "stdout",
     "output_type": "stream",
     "text": [
      "Extracted texts have been saved to /Users/loowenwen/Desktop/Visual Code Studio/jtc-internship/9. consultancy reports/extracted_texts.xlsx\n"
     ]
    }
   ],
   "source": [
    "import fitz  # PyMuPDF\n",
    "import os\n",
    "import pandas as pd\n",
    "import re\n",
    "from unidecode import unidecode\n",
    "\n",
    "def extract_text_from_pdf(pdf_path):\n",
    "    document = fitz.open(pdf_path)\n",
    "    text = \"\"\n",
    "    for page_num in range(len(document)):\n",
    "        page = document.load_page(page_num)\n",
    "        text += page.get_text()\n",
    "    return text\n",
    "\n",
    "def clean_text(text):\n",
    "    # replace non-ASCII characters using unidecode\n",
    "    cleaned_text = unidecode(text)\n",
    "    # further clean text by removing any other unwanted characters\n",
    "    cleaned_text = re.sub(r'[^\\x00-\\x7F]+', ' ', cleaned_text)  # remove non-ASCII characters\n",
    "    # remove illegal characters for Excel\n",
    "    cleaned_text = re.sub(r'[\\x00-\\x1F\\x7F]', ' ', cleaned_text)  # remove non-printable characters\n",
    "    return cleaned_text\n",
    "\n",
    "def extract_text_from_pdfs_in_directory(directory_path):\n",
    "    pdf_texts = []\n",
    "    for root, dirs, files in os.walk(directory_path):\n",
    "        for filename in files:\n",
    "            if filename.endswith(\".pdf\"):\n",
    "                pdf_path = os.path.join(root, filename)\n",
    "                text = extract_text_from_pdf(pdf_path)\n",
    "                cleaned_text = clean_text(text)\n",
    "                relative_path = os.path.relpath(pdf_path, directory_path)\n",
    "                pdf_texts.append({\"File Name\": filename, \"Extracted Text\": cleaned_text, \"Path\": relative_path})\n",
    "    return pdf_texts\n",
    "\n",
    "def save_texts_to_excel(pdf_texts, excel_path):\n",
    "    df = pd.DataFrame(pdf_texts)\n",
    "    df.to_excel(excel_path, index=False)\n",
    "\n",
    "# specify the path to your directory containing PDF files\n",
    "directory_path = \"/Users/loowenwen/Desktop/JTC Internship/Industrial Reports\"\n",
    "\n",
    "# extract text from all PDFs in the directory and subdirectories\n",
    "extracted_texts = extract_text_from_pdfs_in_directory(directory_path)\n",
    "\n",
    "# get the current working directory\n",
    "current_directory = os.getcwd()\n",
    "\n",
    "# specify the path to save the Excel file in the current working directory\n",
    "excel_path = os.path.join(current_directory, \"extracted_texts.xlsx\")\n",
    "\n",
    "# save the extracted texts to an Excel file\n",
    "save_texts_to_excel(extracted_texts, excel_path)\n",
    "\n",
    "print(f\"Extracted texts have been saved to {excel_path}\")"
   ]
  }
 ],
 "metadata": {
  "kernelspec": {
   "display_name": "Python 3",
   "language": "python",
   "name": "python3"
  },
  "language_info": {
   "codemirror_mode": {
    "name": "ipython",
    "version": 3
   },
   "file_extension": ".py",
   "mimetype": "text/x-python",
   "name": "python",
   "nbconvert_exporter": "python",
   "pygments_lexer": "ipython3",
   "version": "3.11.4"
  }
 },
 "nbformat": 4,
 "nbformat_minor": 2
}
