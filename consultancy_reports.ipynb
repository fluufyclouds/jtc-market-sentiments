{
 "cells": [
  {
   "cell_type": "markdown",
   "metadata": {},
   "source": [
    "# Remove Whitespaces"
   ]
  },
  {
   "cell_type": "code",
   "execution_count": 3,
   "metadata": {},
   "outputs": [
    {
     "name": "stdout",
     "output_type": "stream",
     "text": [
      "                                            File Name  \\\n",
      "0   DBS_Singapore Industrial REITs Industry Outloo...   \n",
      "1      JLL_Logistics And Industrial Leasing Guide.pdf   \n",
      "2   EdgeProp_Industrial Rents Rise 1.7% Q-O-Q As P...   \n",
      "3       Colliers_Singapore Industrial Report 1Q24.pdf   \n",
      "4    Cushman_Singapore Industrial Marketbeat 1Q24.pdf   \n",
      "..                                                ...   \n",
      "92  edmund-tie-singapore-q2-2020-real-estate-times...   \n",
      "93     JLL Singapore property market monitor 2q20.pdf   \n",
      "94                 KF - Industrial Market Q2 2020.pdf   \n",
      "95      singapore-industrial-briefing-q2-2020_Aug.pdf   \n",
      "96   Savills_Singapore Industrial Briefing_Q42021.pdf   \n",
      "\n",
      "                                       Extracted Text  \\\n",
      "0   Overall Outlook Key observations Highest level...   \n",
      "1   Logistics & industrial A comprehensive leasing...   \n",
      "2   Industrial rents rise 1.7% q-o-q as prices and...   \n",
      "3   INSIGHTS & RECOMMENDATIONS Prime logistics ren...   \n",
      "4   MAR K E T B E AT Industrial Q1 2024 SINGAPORE ...   \n",
      "..                                                ...   \n",
      "92  SINGAPORE Q2 2020 Liquidity amid low-interest ...   \n",
      "93  79 Robinson Road was completed in April 2020,w...   \n",
      "94  knightfrank.com.sg/research Singapore Research...   \n",
      "95  1 savills.com.sg/research MARKET IN MINUTES Sa...   \n",
      "96  1 savills.com.sg/insight-and-opinion/ MARKET I...   \n",
      "\n",
      "                                                 Path  Year  Quarter  \n",
      "0   2024 Reports/DBS_Singapore Industrial REITs In...  2024        2  \n",
      "1   2024 Reports/JLL_Logistics And Industrial Leas...  2024        2  \n",
      "2   /Users/loowenwen/Desktop/JTC Internship/Indust...  2024        1  \n",
      "3   2024 Reports/Colliers_Singapore Industrial Rep...  2024        1  \n",
      "4   2024 Reports/Cushman_Singapore Industrial Mark...  2024        1  \n",
      "..                                                ...   ...      ...  \n",
      "92  2020 Reports/2020 Q2/edmund-tie-singapore-q2-2...  2020        2  \n",
      "93  2020 Reports/2020 Q2/JLL Singapore property ma...  2020        2  \n",
      "94  2020 Reports/2020 Q2/KF - Industrial Market Q2...  2020        2  \n",
      "95  2020 Reports/2020 Q2/singapore-industrial-brie...  2020        2  \n",
      "96  2021 Reports/2021 Q4/Savills_Singapore Industr...  2021        4  \n",
      "\n",
      "[97 rows x 5 columns]\n"
     ]
    }
   ],
   "source": [
    "import pandas as pd\n",
    "\n",
    "excel_file = 'consultancy_reports_texts.xlsx'\n",
    "sheet_name = 'master'\n",
    "df = pd.read_excel(excel_file, sheet_name=sheet_name)\n",
    "\n",
    "# remove leading and trailing whitespaces\n",
    "df['Extracted Text'] = df['Extracted Text'].str.strip()\n",
    "print(df)\n",
    "\n",
    "# replace multiple spaces between words with a single space\n",
    "df.loc[:, 'Extracted Text'] = df['Extracted Text'].str.replace(r'\\s+', ' ', regex=True)\n",
    "\n",
    "with pd.ExcelWriter(excel_file, engine='openpyxl', mode='a', if_sheet_exists='replace') as writer:\n",
    "    df.to_excel(writer, sheet_name=sheet_name, index=False)"
   ]
  },
  {
   "cell_type": "markdown",
   "metadata": {},
   "source": [
    "# Prompt 1"
   ]
  },
  {
   "cell_type": "code",
   "execution_count": 70,
   "metadata": {},
   "outputs": [],
   "source": [
    "import pandas as pd\n",
    "import json\n",
    "\n",
    "# read the Excel file\n",
    "excel_file = 'consultancy_reports_texts.xlsx'\n",
    "sheet_name = '2022'\n",
    "df = pd.read_excel(excel_file, sheet_name=sheet_name)\n",
    "\n",
    "# prepare the output JSONL file\n",
    "output_file = '2022(1).jsonl'\n",
    "\n",
    "# define fixed values\n",
    "model = \"gpt-4o\"\n",
    "system_content = \"Analyze the market sentiments on Singapore's industrial market. Rate it from -1 to 1 on the sentiments for Singapore's industrial market. Only give me the value.\"\n",
    "url_template = \"/v1/chat/completions\"\n",
    "method = \"POST\"\n",
    "\n",
    "# open the file for writing\n",
    "with open(output_file, 'w') as file:\n",
    "    for index, row in df.iterrows():\n",
    "        # generate custom_id\n",
    "        custom_id = f\"request-{index + 1}\"\n",
    "        \n",
    "        # extract the 'text' column for user content\n",
    "        user_content = row['Extracted Text']\n",
    "        \n",
    "        # create the JSON structure\n",
    "        json_line = {\n",
    "            \"custom_id\": custom_id,\n",
    "            \"method\": method,\n",
    "            \"url\": url_template,\n",
    "            \"body\": {\n",
    "                \"model\": model,\n",
    "                \"messages\": [\n",
    "                    {\"role\": \"system\", \"content\": system_content},\n",
    "                    {\"role\": \"user\", \"content\": user_content}\n",
    "                ],\n",
    "                \"max_tokens\": 10\n",
    "            }\n",
    "        }\n",
    "        \n",
    "        # write the JSON line to the file\n",
    "        file.write(json.dumps(json_line) + '\\n')"
   ]
  },
  {
   "cell_type": "markdown",
   "metadata": {},
   "source": [
    "# Prompt 2"
   ]
  },
  {
   "cell_type": "code",
   "execution_count": 121,
   "metadata": {},
   "outputs": [],
   "source": [
    "import pandas as pd\n",
    "import json\n",
    "\n",
    "# read the Excel file\n",
    "excel_file = 'consultancy_reports_texts.xlsx'\n",
    "sheet_name = '2022_4'\n",
    "df = pd.read_excel(excel_file, sheet_name=sheet_name)\n",
    "\n",
    "# prepare the output JSONL file\n",
    "output_file = '2022_4(2).jsonl'\n",
    "\n",
    "# define fixed values\n",
    "model = \"gpt-4o\"\n",
    "system_content =  \"Analyse the market sentiments on Singapore's industrial market. Rate it either positive, neutral or negative for the sentiments for Singapore's industrial market, whether the text is indicating a positive, neutral or negative outlook. Only give me the value.\"\n",
    "url_template = \"/v1/chat/completions\"\n",
    "method = \"POST\"\n",
    "\n",
    "# open the file for writing\n",
    "with open(output_file, 'w') as file:\n",
    "    for index, row in df.iterrows():\n",
    "        # generate custom_id\n",
    "        custom_id = f\"request-{index + 1}\"\n",
    "        \n",
    "        # extract the 'text' column for user content\n",
    "        user_content = row['Extracted Text']\n",
    "        \n",
    "        # create the JSON structure\n",
    "        json_line = {\n",
    "            \"custom_id\": custom_id,\n",
    "            \"method\": method,\n",
    "            \"url\": url_template,\n",
    "            \"body\": {\n",
    "                \"model\": model,\n",
    "                \"messages\": [\n",
    "                    {\"role\": \"system\", \"content\": system_content},\n",
    "                    {\"role\": \"user\", \"content\": user_content}\n",
    "                ],\n",
    "                \"max_tokens\": 10\n",
    "            }\n",
    "        }\n",
    "        \n",
    "        # write the JSON line to the file\n",
    "        file.write(json.dumps(json_line) + '\\n')"
   ]
  },
  {
   "cell_type": "markdown",
   "metadata": {},
   "source": [
    "# Prompt 3"
   ]
  },
  {
   "cell_type": "code",
   "execution_count": 122,
   "metadata": {},
   "outputs": [],
   "source": [
    "import pandas as pd\n",
    "import json\n",
    "\n",
    "# read the Excel file\n",
    "excel_file = 'consultancy_reports_texts.xlsx'\n",
    "sheet_name = '2022_4'\n",
    "df = pd.read_excel(excel_file, sheet_name=sheet_name)\n",
    "\n",
    "# prepare the output JSONL file\n",
    "output_file = '2022_4(3).jsonl'\n",
    "\n",
    "# define fixed values\n",
    "model = \"gpt-4o\"\n",
    "system_content =  \"For the inputted text, analyse the market sentiments on Singapore's industrial market. Rate it between -1 to 1, whether the text is suggesting a boom or bust in the industrial properties market. Only give me the value.\"\n",
    "url_template = \"/v1/chat/completions\"\n",
    "method = \"POST\"\n",
    "\n",
    "# open the file for writing\n",
    "with open(output_file, 'w') as file:\n",
    "    for index, row in df.iterrows():\n",
    "        # generate custom_id\n",
    "        custom_id = f\"request-{index + 1}\"\n",
    "        \n",
    "        # extract the 'text' column for user content\n",
    "        user_content = row['Extracted Text']\n",
    "        \n",
    "        # create the JSON structure\n",
    "        json_line = {\n",
    "            \"custom_id\": custom_id,\n",
    "            \"method\": method,\n",
    "            \"url\": url_template,\n",
    "            \"body\": {\n",
    "                \"model\": model,\n",
    "                \"messages\": [\n",
    "                    {\"role\": \"system\", \"content\": system_content},\n",
    "                    {\"role\": \"user\", \"content\": user_content}\n",
    "                ],\n",
    "                \"max_tokens\": 10\n",
    "            }\n",
    "        }\n",
    "        \n",
    "        # write the JSON line to the file\n",
    "        file.write(json.dumps(json_line) + '\\n')"
   ]
  },
  {
   "cell_type": "markdown",
   "metadata": {},
   "source": [
    "# Prompt 4"
   ]
  },
  {
   "cell_type": "code",
   "execution_count": 123,
   "metadata": {},
   "outputs": [],
   "source": [
    "import pandas as pd\n",
    "import json\n",
    "\n",
    "# read the Excel file\n",
    "excel_file = 'consultancy_reports_texts.xlsx'\n",
    "sheet_name = '2022_4'\n",
    "df = pd.read_excel(excel_file, sheet_name=sheet_name)\n",
    "\n",
    "# prepare the output JSONL file\n",
    "output_file = '2022_4(4).jsonl'\n",
    "\n",
    "# define fixed values\n",
    "model = \"gpt-4o\"\n",
    "system_content =  \"For the inputted text, analyse the market sentiments on Singapore's industrial market. Rate it either positive, neutral or negative for the sentiments for Singapore's industrial market. Only give me the value.\"\n",
    "url_template = \"/v1/chat/completions\"\n",
    "method = \"POST\"\n",
    "\n",
    "# open the file for writing\n",
    "with open(output_file, 'w') as file:\n",
    "    for index, row in df.iterrows():\n",
    "        # generate custom_id\n",
    "        custom_id = f\"request-{index + 1}\"\n",
    "        \n",
    "        # extract the 'text' column for user content\n",
    "        user_content = row['Extracted Text']\n",
    "        \n",
    "        # create the JSON structure\n",
    "        json_line = {\n",
    "            \"custom_id\": custom_id,\n",
    "            \"method\": method,\n",
    "            \"url\": url_template,\n",
    "            \"body\": {\n",
    "                \"model\": model,\n",
    "                \"messages\": [\n",
    "                    {\"role\": \"system\", \"content\": system_content},\n",
    "                    {\"role\": \"user\", \"content\": user_content}\n",
    "                ],\n",
    "                \"max_tokens\": 10\n",
    "            }\n",
    "        }\n",
    "        \n",
    "        # write the JSON line to the file\n",
    "        file.write(json.dumps(json_line) + '\\n')"
   ]
  },
  {
   "cell_type": "markdown",
   "metadata": {},
   "source": [
    "# Prompt 5"
   ]
  },
  {
   "cell_type": "code",
   "execution_count": 124,
   "metadata": {},
   "outputs": [],
   "source": [
    "import pandas as pd\n",
    "import json\n",
    "\n",
    "# read the Excel file\n",
    "excel_file = 'consultancy_reports_texts.xlsx'\n",
    "sheet_name = '2022_4'\n",
    "df = pd.read_excel(excel_file, sheet_name=sheet_name)\n",
    "\n",
    "# prepare the output JSONL file\n",
    "output_file = '2022_4(5).jsonl'\n",
    "\n",
    "# define fixed values\n",
    "model = \"gpt-4o\"\n",
    "system_content =  \"Based on the provided text, predict the market for Singapore's industrial properties. Rate the sentiment on a scale from -1 to 1, where -1 indicates a very negative outlook, 0 is neutral, and 1 signifies a very positive outlook. Please provide only the numeric sentiment value.\"\n",
    "url_template = \"/v1/chat/completions\"\n",
    "method = \"POST\"\n",
    "\n",
    "# open the file for writing\n",
    "with open(output_file, 'w') as file:\n",
    "    for index, row in df.iterrows():\n",
    "        # generate custom_id\n",
    "        custom_id = f\"request-{index + 1}\"\n",
    "        \n",
    "        # extract the 'text' column for user content\n",
    "        user_content = row['Extracted Text']\n",
    "        \n",
    "        # create the JSON structure\n",
    "        json_line = {\n",
    "            \"custom_id\": custom_id,\n",
    "            \"method\": method,\n",
    "            \"url\": url_template,\n",
    "            \"body\": {\n",
    "                \"model\": model,\n",
    "                \"messages\": [\n",
    "                    {\"role\": \"system\", \"content\": system_content},\n",
    "                    {\"role\": \"user\", \"content\": user_content}\n",
    "                ],\n",
    "                \"max_tokens\": 10\n",
    "            }\n",
    "        }\n",
    "        \n",
    "        # write the JSON line to the file\n",
    "        file.write(json.dumps(json_line) + '\\n')"
   ]
  },
  {
   "cell_type": "markdown",
   "metadata": {},
   "source": [
    "# ChatGPT"
   ]
  },
  {
   "cell_type": "markdown",
   "metadata": {},
   "source": [
    "# Upload File"
   ]
  },
  {
   "cell_type": "code",
   "execution_count": 107,
   "metadata": {},
   "outputs": [
    {
     "data": {
      "text/plain": [
       "FileObject(id='file-jilyaPaVXcSzHbQ49mdrDX3b', bytes=109956, created_at=1723428349, filename='2022_2(5).jsonl', object='file', purpose='batch', status='processed', status_details=None)"
      ]
     },
     "execution_count": 107,
     "metadata": {},
     "output_type": "execute_result"
    }
   ],
   "source": [
    "\n",
    "\n",
    "client.files.create(\n",
    "  file=open(\"2022_2(5).jsonl\", \"rb\"),\n",
    "  purpose=\"batch\"\n",
    ")"
   ]
  },
  {
   "cell_type": "markdown",
   "metadata": {},
   "source": [
    "# Create Batch"
   ]
  },
  {
   "cell_type": "code",
   "execution_count": 108,
   "metadata": {},
   "outputs": [
    {
     "data": {
      "text/plain": [
       "Batch(id='batch_soOKWrYnk3a2TtDSvzt1lK7I', completion_window='24h', created_at=1723428353, endpoint='/v1/chat/completions', input_file_id='file-jilyaPaVXcSzHbQ49mdrDX3b', object='batch', status='validating', cancelled_at=None, cancelling_at=None, completed_at=None, error_file_id=None, errors=None, expired_at=None, expires_at=1723514753, failed_at=None, finalizing_at=None, in_progress_at=None, metadata=None, output_file_id=None, request_counts=BatchRequestCounts(completed=0, failed=0, total=0))"
      ]
     },
     "execution_count": 108,
     "metadata": {},
     "output_type": "execute_result"
    }
   ],
   "source": [
    "client.batches.create(\n",
    "  input_file_id=\"file-jilyaPaVXcSzHbQ49mdrDX3b\",\n",
    "  endpoint=\"/v1/chat/completions\",\n",
    "  completion_window=\"24h\"\n",
    ")"
   ]
  }
 ],
 "metadata": {
  "kernelspec": {
   "display_name": "env",
   "language": "python",
   "name": "python3"
  },
  "language_info": {
   "codemirror_mode": {
    "name": "ipython",
    "version": 3
   },
   "file_extension": ".py",
   "mimetype": "text/x-python",
   "name": "python",
   "nbconvert_exporter": "python",
   "pygments_lexer": "ipython3",
   "version": "3.11.4"
  }
 },
 "nbformat": 4,
 "nbformat_minor": 2
}
